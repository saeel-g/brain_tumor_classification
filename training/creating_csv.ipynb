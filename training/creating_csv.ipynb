{
 "cells": [
  {
   "cell_type": "code",
   "execution_count": 10,
   "metadata": {},
   "outputs": [],
   "source": [
    "import os\n",
    "import pandas as pd\n",
    "import csv\n"
   ]
  },
  {
   "cell_type": "code",
   "execution_count": 28,
   "metadata": {},
   "outputs": [],
   "source": [
    "\n",
    "image_dir = 'C:\\\\AI_ML\\\\project\\\\brain_tumor_detection\\\\archive\\\\Training\\\\pituitary'\n",
    "\n",
    "\n",
    "image_names = [filename for filename in os.listdir(image_dir) if filename.endswith(('.jpg','.jpeg','.png'))]\n",
    "\n",
    "\n",
    "csv_file_path = 'archive\\\\Training\\\\pituitary.csv'\n",
    "\n",
    "\n",
    "with open(csv_file_path, 'a', newline='') as csv_file:\n",
    "    \n",
    "    csv_writer = csv.writer(csv_file)\n",
    "    \n",
    "  \n",
    "    for image_name in image_names:\n",
    "        csv_writer.writerow([image_name])\n",
    "\n",
    "\n"
   ]
  },
  {
   "cell_type": "code",
   "execution_count": 37,
   "metadata": {},
   "outputs": [
    {
     "name": "stdout",
     "output_type": "stream",
     "text": [
      "Images have been renamed sequentially.\n"
     ]
    }
   ],
   "source": [
    "import os\n",
    "\n",
    "# Directory containing your images\n",
    "image_dir = 'C:\\\\AI_ML\\\\project\\\\brain_tumor_detection\\\\archive\\\\Training\\\\pituitary'\n",
    "\n",
    "# Get a list of image file names in the directory\n",
    "image_names = [filename for filename in os.listdir(image_dir) if filename.endswith(('.jpg', '.png', '.jpeg'))]\n",
    "\n",
    "# Sort the image names to ensure sequential renaming\n",
    "image_names.sort()\n",
    "\n",
    "# Initialize a counter for the new names\n",
    "counter = 5267\n",
    "\n",
    "# Rename the images sequentially\n",
    "for old_name in image_names:\n",
    "    # Determine the file extension\n",
    "    file_extension = os.path.splitext(old_name)[-1]\n",
    "    \n",
    "    # Create the new name\n",
    "    new_name = f\"{counter}{file_extension}\"\n",
    "    \n",
    "    # Construct the full paths\n",
    "    old_path = os.path.join(image_dir, old_name)\n",
    "    new_path = os.path.join(image_dir, new_name)\n",
    "    \n",
    "    # Rename the file\n",
    "    os.rename(old_path, new_path)\n",
    "    \n",
    "    # Increment the counter\n",
    "    counter += 1\n",
    "\n",
    "print(\"Images have been renamed sequentially.\")\n"
   ]
  },
  {
   "cell_type": "code",
   "execution_count": 2,
   "metadata": {},
   "outputs": [],
   "source": [
    "## adding .jpg in front\n",
    "\n",
    "import pandas as pd\n",
    "\n",
    "# Load the CSV file\n",
    "input_csv_file = './dataset/annotations.csv'\n",
    "output_csv_file = './dataset/lable.csv'\n",
    "\n",
    "# Read the CSV into a DataFrame\n",
    "df = pd.read_csv(input_csv_file)\n",
    "\n",
    "# Specify the name of the column to edit\n",
    "column_name = 'IMG'  # Change 'no' to the actual column name\n",
    "\n",
    "# Add '.jpg' in front of each value in the specified column\n",
    "df[column_name] =df[column_name].astype(str) + '.jpg'\n",
    "\n",
    "# Save the modified DataFrame to a new CSV file\n",
    "df.to_csv(output_csv_file, index=False)"
   ]
  },
  {
   "cell_type": "code",
   "execution_count": 7,
   "metadata": {},
   "outputs": [
    {
     "ename": "FileNotFoundError",
     "evalue": "[Errno 2] No such file or directory: './dataset\\\\0\\\\3911.jpg'",
     "output_type": "error",
     "traceback": [
      "\u001b[1;31m---------------------------------------------------------------------------\u001b[0m",
      "\u001b[1;31mFileNotFoundError\u001b[0m                         Traceback (most recent call last)",
      "File \u001b[1;32mc:\\Users\\sgote\\.conda\\envs\\tf-gpu\\lib\\shutil.py:803\u001b[0m, in \u001b[0;36mmove\u001b[1;34m(src, dst, copy_function)\u001b[0m\n\u001b[0;32m    802\u001b[0m \u001b[39mtry\u001b[39;00m:\n\u001b[1;32m--> 803\u001b[0m     os\u001b[39m.\u001b[39;49mrename(src, real_dst)\n\u001b[0;32m    804\u001b[0m \u001b[39mexcept\u001b[39;00m \u001b[39mOSError\u001b[39;00m:\n",
      "\u001b[1;31mFileNotFoundError\u001b[0m: [WinError 3] The system cannot find the path specified: './dataset\\\\0\\\\3911.jpg' -> './dataset\\\\test_dataset\\\\0\\\\3911.jpg'",
      "\nDuring handling of the above exception, another exception occurred:\n",
      "\u001b[1;31mFileNotFoundError\u001b[0m                         Traceback (most recent call last)",
      "\u001b[1;32mc:\\Users\\sgote\\AI_ML\\brain_tumor_detection\\brain_tumor_detection\\creating_csv.ipynb Cell 5\u001b[0m line \u001b[0;36m4\n\u001b[0;32m     <a href='vscode-notebook-cell:/c%3A/Users/sgote/AI_ML/brain_tumor_detection/brain_tumor_detection/creating_csv.ipynb#W4sZmlsZQ%3D%3D?line=40'>41</a>\u001b[0m original_dataset_folder \u001b[39m=\u001b[39m \u001b[39m'\u001b[39m\u001b[39m./dataset\u001b[39m\u001b[39m'\u001b[39m\n\u001b[0;32m     <a href='vscode-notebook-cell:/c%3A/Users/sgote/AI_ML/brain_tumor_detection/brain_tumor_detection/creating_csv.ipynb#W4sZmlsZQ%3D%3D?line=41'>42</a>\u001b[0m original_csv_file \u001b[39m=\u001b[39m \u001b[39m'\u001b[39m\u001b[39m./dataset/lable.csv\u001b[39m\u001b[39m'\u001b[39m\n\u001b[1;32m---> <a href='vscode-notebook-cell:/c%3A/Users/sgote/AI_ML/brain_tumor_detection/brain_tumor_detection/creating_csv.ipynb#W4sZmlsZQ%3D%3D?line=42'>43</a>\u001b[0m create_test_dataset(original_dataset_folder, original_csv_file, test_size\u001b[39m=\u001b[39;49m\u001b[39m0.1\u001b[39;49m)\n",
      "\u001b[1;32mc:\\Users\\sgote\\AI_ML\\brain_tumor_detection\\brain_tumor_detection\\creating_csv.ipynb Cell 5\u001b[0m line \u001b[0;36m2\n\u001b[0;32m     <a href='vscode-notebook-cell:/c%3A/Users/sgote/AI_ML/brain_tumor_detection/brain_tumor_detection/creating_csv.ipynb#W4sZmlsZQ%3D%3D?line=23'>24</a>\u001b[0m     new_path \u001b[39m=\u001b[39m os\u001b[39m.\u001b[39mpath\u001b[39m.\u001b[39mjoin(test_folder, category, image_filename)\n\u001b[0;32m     <a href='vscode-notebook-cell:/c%3A/Users/sgote/AI_ML/brain_tumor_detection/brain_tumor_detection/creating_csv.ipynb#W4sZmlsZQ%3D%3D?line=25'>26</a>\u001b[0m     os\u001b[39m.\u001b[39mmakedirs(os\u001b[39m.\u001b[39mpath\u001b[39m.\u001b[39mdirname(new_path), exist_ok\u001b[39m=\u001b[39m\u001b[39mTrue\u001b[39;00m)\n\u001b[1;32m---> <a href='vscode-notebook-cell:/c%3A/Users/sgote/AI_ML/brain_tumor_detection/brain_tumor_detection/creating_csv.ipynb#W4sZmlsZQ%3D%3D?line=26'>27</a>\u001b[0m     shutil\u001b[39m.\u001b[39;49mmove(original_path, new_path)\n\u001b[0;32m     <a href='vscode-notebook-cell:/c%3A/Users/sgote/AI_ML/brain_tumor_detection/brain_tumor_detection/creating_csv.ipynb#W4sZmlsZQ%3D%3D?line=28'>29</a>\u001b[0m \u001b[39m# Update the CSV file to indicate which images are in the test set\u001b[39;00m\n\u001b[0;32m     <a href='vscode-notebook-cell:/c%3A/Users/sgote/AI_ML/brain_tumor_detection/brain_tumor_detection/creating_csv.ipynb#W4sZmlsZQ%3D%3D?line=29'>30</a>\u001b[0m test_df[\u001b[39m'\u001b[39m\u001b[39mis_test\u001b[39m\u001b[39m'\u001b[39m] \u001b[39m=\u001b[39m \u001b[39m1\u001b[39m\n",
      "File \u001b[1;32mc:\\Users\\sgote\\.conda\\envs\\tf-gpu\\lib\\shutil.py:817\u001b[0m, in \u001b[0;36mmove\u001b[1;34m(src, dst, copy_function)\u001b[0m\n\u001b[0;32m    815\u001b[0m         rmtree(src)\n\u001b[0;32m    816\u001b[0m     \u001b[39melse\u001b[39;00m:\n\u001b[1;32m--> 817\u001b[0m         copy_function(src, real_dst)\n\u001b[0;32m    818\u001b[0m         os\u001b[39m.\u001b[39munlink(src)\n\u001b[0;32m    819\u001b[0m \u001b[39mreturn\u001b[39;00m real_dst\n",
      "File \u001b[1;32mc:\\Users\\sgote\\.conda\\envs\\tf-gpu\\lib\\shutil.py:432\u001b[0m, in \u001b[0;36mcopy2\u001b[1;34m(src, dst, follow_symlinks)\u001b[0m\n\u001b[0;32m    430\u001b[0m \u001b[39mif\u001b[39;00m os\u001b[39m.\u001b[39mpath\u001b[39m.\u001b[39misdir(dst):\n\u001b[0;32m    431\u001b[0m     dst \u001b[39m=\u001b[39m os\u001b[39m.\u001b[39mpath\u001b[39m.\u001b[39mjoin(dst, os\u001b[39m.\u001b[39mpath\u001b[39m.\u001b[39mbasename(src))\n\u001b[1;32m--> 432\u001b[0m copyfile(src, dst, follow_symlinks\u001b[39m=\u001b[39;49mfollow_symlinks)\n\u001b[0;32m    433\u001b[0m copystat(src, dst, follow_symlinks\u001b[39m=\u001b[39mfollow_symlinks)\n\u001b[0;32m    434\u001b[0m \u001b[39mreturn\u001b[39;00m dst\n",
      "File \u001b[1;32mc:\\Users\\sgote\\.conda\\envs\\tf-gpu\\lib\\shutil.py:261\u001b[0m, in \u001b[0;36mcopyfile\u001b[1;34m(src, dst, follow_symlinks)\u001b[0m\n\u001b[0;32m    259\u001b[0m     os\u001b[39m.\u001b[39msymlink(os\u001b[39m.\u001b[39mreadlink(src), dst)\n\u001b[0;32m    260\u001b[0m \u001b[39melse\u001b[39;00m:\n\u001b[1;32m--> 261\u001b[0m     \u001b[39mwith\u001b[39;00m \u001b[39mopen\u001b[39;49m(src, \u001b[39m'\u001b[39;49m\u001b[39mrb\u001b[39;49m\u001b[39m'\u001b[39;49m) \u001b[39mas\u001b[39;00m fsrc, \u001b[39mopen\u001b[39m(dst, \u001b[39m'\u001b[39m\u001b[39mwb\u001b[39m\u001b[39m'\u001b[39m) \u001b[39mas\u001b[39;00m fdst:\n\u001b[0;32m    262\u001b[0m         \u001b[39m# macOS\u001b[39;00m\n\u001b[0;32m    263\u001b[0m         \u001b[39mif\u001b[39;00m _HAS_FCOPYFILE:\n\u001b[0;32m    264\u001b[0m             \u001b[39mtry\u001b[39;00m:\n",
      "\u001b[1;31mFileNotFoundError\u001b[0m: [Errno 2] No such file or directory: './dataset\\\\0\\\\3911.jpg'"
     ]
    }
   ],
   "source": [
    "import pandas as pd\n",
    "from sklearn.model_selection import train_test_split\n",
    "import os\n",
    "import shutil\n",
    "\n",
    "# Function to split the dataset and update the CSV file\n",
    "def create_test_dataset(original_folder, original_csv, test_size=0.1):\n",
    "    # Read the CSV file\n",
    "    df = pd.read_csv(original_csv)\n",
    "    df['GLM']=df['GLM'].astype(str)\n",
    "    # Split the dataset without stratifying\n",
    "    train_df, test_df = train_test_split(df, test_size=test_size, random_state=42)\n",
    "\n",
    "    # Create a new folder for the test dataset\n",
    "    test_folder = os.path.join(original_folder, 'test_dataset')\n",
    "    os.makedirs(test_folder, exist_ok=True)\n",
    "\n",
    "    # Move images to the test dataset folder\n",
    "    for index, row in test_df.iterrows():\n",
    "        image_filename = row['IMG']\n",
    "        category = row['GLM']\n",
    "\n",
    "        original_path = os.path.join(original_folder, category, image_filename)\n",
    "        new_path = os.path.join(test_folder, category, image_filename)\n",
    "\n",
    "        os.makedirs(os.path.dirname(new_path), exist_ok=True)\n",
    "        shutil.move(original_path, new_path)\n",
    "\n",
    "    # Update the CSV file to indicate which images are in the test set\n",
    "    test_df['is_test'] = 1\n",
    "    train_df['is_test'] = 0\n",
    "\n",
    "    updated_df = pd.concat([train_df, test_df], ignore_index=True)\n",
    "    updated_csv = os.path.join(original_folder, 'updated_dataset.csv')\n",
    "    updated_df.to_csv(updated_csv, index=False)\n",
    "\n",
    "    print(f\"Test dataset created in: {test_folder}\")\n",
    "    print(f\"Updated CSV file saved to: {updated_csv}\")\n",
    "\n",
    "# Example usage\n",
    "original_dataset_folder = './dataset'\n",
    "original_csv_file = './dataset/lable.csv'\n",
    "create_test_dataset(original_dataset_folder, original_csv_file, test_size=0.1)\n"
   ]
  }
 ],
 "metadata": {
  "kernelspec": {
   "display_name": "mini_project_v5",
   "language": "python",
   "name": "python3"
  },
  "language_info": {
   "codemirror_mode": {
    "name": "ipython",
    "version": 3
   },
   "file_extension": ".py",
   "mimetype": "text/x-python",
   "name": "python",
   "nbconvert_exporter": "python",
   "pygments_lexer": "ipython3",
   "version": "3.9.0"
  },
  "orig_nbformat": 4
 },
 "nbformat": 4,
 "nbformat_minor": 2
}
