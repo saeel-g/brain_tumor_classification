{
 "cells": [
  {
   "cell_type": "code",
   "execution_count": 1,
   "metadata": {},
   "outputs": [
    {
     "name": "stdout",
     "output_type": "stream",
     "text": [
      "../trained models/train_Densenet121.h5\n",
      "../trained models/train_InceptionResNetV2.h5\n",
      "../trained models/train_InceptionV3.h5\n",
      "../trained models/train_MobileNet.h5\n",
      "../trained models/train_Test_MobileNet.h5\n"
     ]
    }
   ],
   "source": [
    "import os\n",
    "path='../trained models/'\n",
    "for filename in os.listdir(path):\n",
    "    file_path=os.path.join(path,filename)\n",
    "    print(file_path)"
   ]
  }
 ],
 "metadata": {
  "kernelspec": {
   "display_name": "tf-gpu",
   "language": "python",
   "name": "python3"
  },
  "language_info": {
   "codemirror_mode": {
    "name": "ipython",
    "version": 3
   },
   "file_extension": ".py",
   "mimetype": "text/x-python",
   "name": "python",
   "nbconvert_exporter": "python",
   "pygments_lexer": "ipython3",
   "version": "3.9.0"
  }
 },
 "nbformat": 4,
 "nbformat_minor": 2
}
